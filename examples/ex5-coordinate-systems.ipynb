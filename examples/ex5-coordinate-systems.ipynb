{
 "cells": [
  {
   "cell_type": "markdown",
   "metadata": {},
   "source": [
    "# Example 5: Coordinate systems\n",
    "\n",
    "![Image showing relative orientation of three coordinate systems](coordinate_systems.png \"Coordinate systems for a SANS experiment\")"
   ]
  },
  {
   "cell_type": "markdown",
   "metadata": {},
   "source": [
    "## Overview of three coordinate systems\n",
    "\n",
    "To describe a general SANS experiment, one needs to consider _three_ coordinate systems, as shown in the figure above. These coordinate systems are:\n",
    "\n",
    "- The _beamline coordinates_, denoted with capital letters $U$, $V$, $W$. The (longitudinal) direction $U$ is parallel to the neutron beam ($\\vec{k}$) passing through the sample. The detector plane is aligned with the transverse directions $V$ (horizontal) and $W$ (vertical).\n",
    "- The sample is placed in a sample environment (e.g. a cryostat), which defines the _sample environment coordinates_, which are denoted with lower-case letters $u$, $v$, $w$. Within the code it is implicily assumed that the neutron polarisation is defined by a field set in the sample environment.\n",
    "- The _sample coordinates_ $x$, $y$, $z$ are used to specify positions $\\vec{R}_i$ and moments $\\vec{M}_i$ of the individual scatterers, e.g. which are the result of micromagnetic simulations. \n",
    "\n",
    "If no relative rotations between the (right-handed) coordiante systems are considered, the relative alignment of the principal axes is as follows:\n",
    "\n",
    "- $U \\parallel u \\parallel x$, parallel to beam direction\n",
    "- $V \\parallel v \\parallel y$, horizontal direction in detector plane\n",
    "- $W \\parallel w \\parallel z$, vertical direction in detector plane\n",
    "\n",
    "Ideally, the micromagnetic simulations are done in a geometry that is largely aligned with the scattering geometry under investigation. For this it might be neccessary to swap axes, e.g. for a thin film, typically one chooses a $z^\\prime$ coordinate to be paralel to the surface normal, which would need to be swapped to the $x$ coordinate to be parallel to the beam direction."
   ]
  },
  {
   "cell_type": "markdown",
   "metadata": {},
   "source": [
    "## Specifying rotations\n",
    "\n",
    "Rotations of the sample and the sample environment can be defined with the `mm2SANS.Probe.sample_rotations` and `mm2SANS.Probe.sample_environment_rotations`, respectively. The rotations are specified as a list of rotations around the principal axes of the sample, respectively the sample environment, which initially is collinear with the beamline coordinate system.\n",
    "\n",
    "Rotations are specified as a combination `[rotation_type, rotation_angle]`, where the first is a string which can be `\"roll\"`, `\"pitch\"` or `\"yaw\"`, and the latter is the rotation angle $\\phi$ in degrees. The types encode the following rotations:\n",
    "\n",
    "- `roll`: Rotation around axis parallel to the neutron beam $x$, respectively $u$. Positive angles $\\phi$ correspond to counter-clockwise rotations when viewed in the beam direction.\n",
    "- `pitch`: Rotation around the horizontal axis $y$, respectively $v$. Positive angles $\\phi$ tilt the sample/cryostat towards the detector.\n",
    "- `yaw`: Rotation around the vertical axis $z$, respectively $w$. Positive angles $\\phi$ rotate the sample/crostate to the positive $U$ direction.\n"
   ]
  },
  {
   "cell_type": "markdown",
   "metadata": {},
   "source": [
    "## Neutron polarisation\n",
    "\n",
    "It is implicitly assumed that the neutron polarisation $\\vec{P}$ is defined by the magnetic field at the sample position within the sample environment. When an `mm2SANS.Experiment` object is initiated, thus the vector $\\vec{P}$ is transformed according to the rotations specified in `probe.Beamline.sample_environment_rotations`. If the neutron polarisation is set in the beamline coordinate system $U$, $V$, $W$, its value stored in the field `Experiment.Probe.Beamline.neutron_polarisation` needs to be reset explicitly."
   ]
  }
 ],
 "metadata": {
  "kernelspec": {
   "display_name": "Python 3",
   "language": "python",
   "name": "python3"
  },
  "language_info": {
   "codemirror_mode": {
    "name": "ipython",
    "version": 3
   },
   "file_extension": ".py",
   "mimetype": "text/x-python",
   "name": "python",
   "nbconvert_exporter": "python",
   "pygments_lexer": "ipython3",
   "version": "3.6.7"
  }
 },
 "nbformat": 4,
 "nbformat_minor": 4
}
